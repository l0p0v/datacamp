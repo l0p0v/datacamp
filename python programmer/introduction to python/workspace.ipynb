{
 "cells": [
  {
   "cell_type": "code",
   "execution_count": 1,
   "metadata": {},
   "outputs": [],
   "source": [
    "# Importing course packages; you can add more too!\n",
    "import numpy as np\n",
    "import math\n",
    "\n",
    "# Import columns as numpy arrays\n",
    "baseball_names = np.genfromtxt(\n",
    "    fname=\"baseball.csv\",  # This is the filename\n",
    "    delimiter=\",\",  # The file is comma-separated\n",
    "    usecols=0,  # Use the first column\n",
    "    skip_header=1,  # Skip the first line\n",
    "    dtype=str,  # This column contains strings\n",
    ")\n",
    "baseball_heights = np.genfromtxt(\n",
    "    fname=\"baseball.csv\", delimiter=\",\", usecols=3, skip_header=1\n",
    ")\n",
    "baseball_weights = np.genfromtxt(\n",
    "    fname=\"baseball.csv\", delimiter=\",\", usecols=4, skip_header=1\n",
    ")\n",
    "baseball_ages = np.genfromtxt(\n",
    "    fname=\"baseball.csv\", delimiter=\",\", usecols=5, skip_header=1\n",
    ")\n",
    "\n",
    "soccer_names = np.genfromtxt(\n",
    "    fname=\"soccer.csv\",\n",
    "    delimiter=\",\",\n",
    "    usecols=1,\n",
    "    skip_header=1,\n",
    "    dtype=str,\n",
    "    encoding=\"utf\",\n",
    ")\n",
    "soccer_ratings = np.genfromtxt(\n",
    "    fname=\"soccer.csv\",\n",
    "    delimiter=\",\",\n",
    "    usecols=2,\n",
    "    skip_header=1,\n",
    "    encoding=\"utf\",\n",
    ")\n",
    "soccer_positions = np.genfromtxt(\n",
    "    fname=\"soccer.csv\",\n",
    "    delimiter=\",\",\n",
    "    usecols=3,\n",
    "    skip_header=1,\n",
    "    encoding=\"utf\",\n",
    "    dtype=str,\n",
    ")\n",
    "soccer_heights = np.genfromtxt(\n",
    "    fname=\"soccer.csv\",\n",
    "    delimiter=\",\",\n",
    "    usecols=4,\n",
    "    skip_header=1,\n",
    "    encoding=\"utf\",\n",
    ")\n",
    "soccer_shooting = np.genfromtxt(\n",
    "    fname=\"soccer.csv\",\n",
    "    delimiter=\",\",\n",
    "    usecols=8,\n",
    "    skip_header=1,\n",
    "    encoding=\"utf\",\n",
    ")\n"
   ]
  },
  {
   "attachments": {},
   "cell_type": "markdown",
   "metadata": {},
   "source": [
    "## Explore Datasets"
   ]
  },
  {
   "cell_type": "code",
   "execution_count": 2,
   "metadata": {},
   "outputs": [
    {
     "name": "stdout",
     "output_type": "stream",
     "text": [
      "The weight of ten first players is: [180. 215. 210. 210. 188. 176. 209. 200. 231. 180.]\n"
     ]
    }
   ],
   "source": [
    "# Print out the weight of the first ten baseball players (weights are in pounds)\n",
    "print(f'The weight of ten first players is: {baseball_weights[:10]}')"
   ]
  },
  {
   "cell_type": "code",
   "execution_count": 3,
   "metadata": {},
   "outputs": [
    {
     "name": "stdout",
     "output_type": "stream",
     "text": [
      "200.0kg\n"
     ]
    }
   ],
   "source": [
    "# What is the median weight of all baseball players in the data?\n",
    "print(f'{np.median(baseball_weights)}kg')"
   ]
  },
  {
   "cell_type": "code",
   "execution_count": 4,
   "metadata": {},
   "outputs": [
    {
     "name": "stdout",
     "output_type": "stream",
     "text": [
      "['\"Andrew_Sisco\"' '\"Randy_Johnson\"' '\"Mark_Hendrickson\"' '\"Chris_Young\"'\n",
      " '\"Jon_Rauch\"']\n"
     ]
    }
   ],
   "source": [
    "# Print out the names of all players with a height greater than 80 (heights are in inches)\n",
    "print(baseball_names[baseball_heights > 80])"
   ]
  },
  {
   "cell_type": "code",
   "execution_count": 5,
   "metadata": {},
   "outputs": [
    {
     "name": "stdout",
     "output_type": "stream",
     "text": [
      "The highest average height is for baseball players.\n"
     ]
    }
   ],
   "source": [
    "# Who's taller on average? Baseball players or soccer players? Keep in ming that baseball heights are stored in inches!\n",
    "# converting (cm to inch)\n",
    "soccer_heights_inch = [sh_cm / 2.54 for sh_cm in soccer_heights]\n",
    "# calculating averages\n",
    "avg_baseball_heights = sum(baseball_heights) / len(baseball_heights)\n",
    "avg_soccer_heights = sum(soccer_heights_inch) / len(soccer_heights_inch)\n",
    "taller_average = 'baseball players' if avg_baseball_heights > avg_soccer_heights else 'soccer players'\n",
    "# result\n",
    "print(f'The highest average height is for {taller_average}.')"
   ]
  },
  {
   "cell_type": "code",
   "execution_count": 6,
   "metadata": {},
   "outputs": [
    {
     "name": "stdout",
     "output_type": "stream",
     "text": [
      "[nan 65. 54. ... 40. 48. 56.]\n",
      "[65 54 38 ... 40 48 56]\n"
     ]
    }
   ],
   "source": [
    "# The values in soccer_shooting are decimals. Convert them to whole numbers (e.g., 0.98 becomes 98).\n",
    "print(soccer_shooting)  # before\n",
    "# removing 'nan' and float numbers\n",
    "soccer_shooting = np.array(soccer_shooting[soccer_shooting > 0], dtype=int)\n",
    "# result\n",
    "print(soccer_shooting)  # after"
   ]
  },
  {
   "cell_type": "code",
   "execution_count": 7,
   "metadata": {},
   "outputs": [
    {
     "name": "stdout",
     "output_type": "stream",
     "text": [
      "[[ 1.         -0.00610858]\n",
      " [-0.00610858  1.        ]]\n",
      "Do taller players get higher ratings? No\n"
     ]
    }
   ],
   "source": [
    "# Do taller players get higher ratings? Calculate the correlation between soccer_ratings and soccer_heights to find out!\n",
    "print(np.corrcoef(soccer_ratings, soccer_heights))\n",
    "print(\"Do taller players get higher ratings? No\")"
   ]
  },
  {
   "cell_type": "code",
   "execution_count": 8,
   "metadata": {},
   "outputs": [
    {
     "name": "stdout",
     "output_type": "stream",
     "text": [
      "Average rating for attacking players (\"A\"): 67%\n"
     ]
    }
   ],
   "source": [
    "# What's the average rating for attacking players ('A')?\n",
    "# calculating average\n",
    "avg = soccer_ratings[soccer_positions == 'A'].mean()\n",
    "# result\n",
    "print(f'Average rating for attacking players (\"A\"): {round(avg)}%')"
   ]
  }
 ],
 "metadata": {
  "kernelspec": {
   "display_name": "Python 3",
   "language": "python",
   "name": "python3"
  },
  "language_info": {
   "codemirror_mode": {
    "name": "ipython",
    "version": 3
   },
   "file_extension": ".py",
   "mimetype": "text/x-python",
   "name": "python",
   "nbconvert_exporter": "python",
   "pygments_lexer": "ipython3",
   "version": "3.11.1"
  },
  "orig_nbformat": 4,
  "vscode": {
   "interpreter": {
    "hash": "72b2382ece9768098284d92bbc69d35954e75b60d1e25897d1389c232f4796f0"
   }
  }
 },
 "nbformat": 4,
 "nbformat_minor": 2
}
